{
 "cells": [
  {
   "cell_type": "markdown",
   "metadata": {},
   "source": [
    "# Setting up food collection and composting business in New Delhi, India"
   ]
  },
  {
   "cell_type": "markdown",
   "metadata": {},
   "source": [
    "## Problem statement:\n",
    "*An entrepreneur wants to start a leftover food collection and composting business in New Delhi, India. The business will work with restaurants to collect leftover food items (both cooked and uncooked) and deliver the edible fraction to food banks and meal centres set up for the families impacted by disasters like the Covid-19 pandemic. Spoilt or inedible food would be processed for conversion to energy and biomass (compost). He is exploring suitable locations to shortlist, where he will open the first few leftover food processing centres on a pilot basis.*"
   ]
  },
  {
   "cell_type": "markdown",
   "metadata": {},
   "source": [
    "## Background ##\n",
    "New Delhi, the Capital of India is vast metropolitan city. The National Capital Region (NCR) hosts a population of about 20 million. The city is known for its eateries: both high-end restaurants to street-side cafes serving customers of various economic strata. Consequently, a lot of food waste is generated in the city. Food waste is a huge problem in India, as the country continues to grapple with ever-expensive and wasteful food production and transportation systems, along with lack of adequate refrigeration and storage. This business will work with local food banks/distribution centres and restaurants to create an ecosystem of collection and distribution in the city. Also, landfilling of food waste leads to loss of resources like energy, water and fuels used to produce the food. Therefore, collection and composting of spoilt or inedible food is a good way forward. Inedible food from both restaurants and food banks would be processed.\n",
    "\n",
    "The compost generated would be supplied to the horticultural and floral nurseries maintained in the city by the municipalities and the Delhi state government. This would help the government cut back on the expense and consumption of chemical fertilizers (they are harmful to the soil and water table). The compost provided by the business would be organic in nature; it would be a win-win solution for all parties involved.\n",
    "\n",
    "The Entrepreneur wants to identify the best possible locations in the city to start his business. Following are the criteria for choosing locations:\n",
    "- Collection/storage centres should be close to major restaurant hubs (radius <= 2 km)\n",
    "- Food processing/composting units can be located farther out from the storage/collection centres. Proximity to clients (nurseries) would be desirable. (radius <= 8 km)\n",
    "- Food banks/meal distribution centres/night shelters in the vicinity of the target restaurants would be selected for servicing (radius <= 5)\n",
    "- Selection of restaurants: priority will be given to clusters/restaurants with existing focus on sustainability"
   ]
  },
  {
   "cell_type": "markdown",
   "metadata": {},
   "source": [
    "## Data\n",
    "Data from the Foursquare API would be used to identify locations in the city according to above criteria. Restaurants with average ratings of 8.0/10.0 will be targeted. Those that feature keywords like \"Green\", \"Local\", 'Healthy\", etc. will be given priority, as these would be more likely to participate in a sustainability initiative. Collection and storage facilities of the new business would be set up close to such restaurants or hubs (malls, food courts, etc.), within a radius of 2 kilometres. This is meant to prevent spoilage during transportation, and quick response time when intimation of leftover food is made by the restaurant(s) in an area.\n",
    "\n",
    "Areas chosen for servicing (food distribution) could be established food banks, meals centres that serve the destitute, or night shelters maintained by the government of Delhi, or the municipal corporations. Once the food is tested and preserved adequately at the collection centres, it would be transported safely to one such service locations for distribution. Locational data of such shelters and food banks might not be available with Foursquare, and might need additional data sources, like the website of the Government of Delhi, or search results from search engines or local apps, or websites of NGOs and food banks.\n",
    "\n",
    "Ideally, the distance between the service locations and storage units would be within 5 kilometres.\n",
    "\n",
    "Locations of composting facilities would depend upon availability of land/plot where small units for industrial composting or food-to-energy converters can be set up. Special permits would be required, and availability of land within city limits for industrial purposes might be limited. Therefore, a larger radius of 8 kilometres is allowed. Since the food destined for these facilities would already be deemed unsuitable for consumption, spoilage during transportation would no longer be a concern. Locations close to horticultural and floral nurseries would be suitable, as transportation cost of the compost would be minimized (radius <= 8 kilometres)."
   ]
  },
  {
   "cell_type": "code",
   "execution_count": null,
   "metadata": {},
   "outputs": [],
   "source": []
  }
 ],
 "metadata": {
  "kernelspec": {
   "display_name": "Python",
   "language": "python",
   "name": "conda-env-python-py"
  },
  "language_info": {
   "codemirror_mode": {
    "name": "ipython",
    "version": 3
   },
   "file_extension": ".py",
   "mimetype": "text/x-python",
   "name": "python",
   "nbconvert_exporter": "python",
   "pygments_lexer": "ipython3",
   "version": "3.6.10"
  }
 },
 "nbformat": 4,
 "nbformat_minor": 4
}
